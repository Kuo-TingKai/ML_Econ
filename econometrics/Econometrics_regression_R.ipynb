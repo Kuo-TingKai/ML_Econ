{
 "cells": [
  {
   "cell_type": "code",
   "execution_count": 6,
   "metadata": {},
   "outputs": [],
   "source": [
    "df = read.table(\"0608.csv\",sep = \",\", header = TRUE)"
   ]
  },
  {
   "cell_type": "code",
   "execution_count": 33,
   "metadata": {},
   "outputs": [
    {
     "data": {
      "text/html": [
       "<table>\n",
       "<thead><tr><th scope=col>year</th><th scope=col>personal</th><th scope=col>corporate</th><th scope=col>party</th><th scope=col>group</th><th scope=col>anonymous</th><th scope=col>other</th><th scope=col>total</th><th scope=col>net</th><th scope=col>opp</th><th scope=col>...</th><th scope=col>kmt16</th><th scope=col>dpp</th><th scope=col>pfp</th><th scope=col>new</th><th scope=col>none</th><th scope=col>income</th><th scope=col>times</th><th scope=col>member</th><th scope=col>pre</th><th scope=col>riv</th></tr></thead>\n",
       "<tbody>\n",
       "\t<tr><td>2008    </td><td>10745270</td><td>17018120</td><td>5920000 </td><td>1782000 </td><td>24000   </td><td>7858    </td><td>35497248</td><td>24751978</td><td> 8526685</td><td>...     </td><td>0       </td><td>0       </td><td>0       </td><td>0       </td><td>0       </td><td>1156.132</td><td>0       </td><td>1       </td><td>121956  </td><td>4       </td></tr>\n",
       "\t<tr><td>2008    </td><td> 5258500</td><td> 2526000</td><td> 300000 </td><td> 430000 </td><td>11000   </td><td>1185    </td><td> 8526685</td><td> 3268185</td><td>35497248</td><td>...     </td><td>0       </td><td>1       </td><td>0       </td><td>0       </td><td>0       </td><td>1156.132</td><td>0       </td><td>0       </td><td> 83398  </td><td>4       </td></tr>\n",
       "\t<tr><td>2008    </td><td>15851900</td><td>19934048</td><td>7310000 </td><td> 540000 </td><td>77188   </td><td>4433    </td><td>43717569</td><td>27865669</td><td>10805404</td><td>...     </td><td>0       </td><td>0       </td><td>0       </td><td>0       </td><td>0       </td><td>1172.292</td><td>0       </td><td>0       </td><td>104488  </td><td>3       </td></tr>\n",
       "\t<tr><td>2008    </td><td> 3802000</td><td> 6503388</td><td> 500000 </td><td>      0 </td><td>    0   </td><td>  16    </td><td>10805404</td><td> 7003404</td><td>43717569</td><td>...     </td><td>0       </td><td>1       </td><td>0       </td><td>0       </td><td>0       </td><td>1172.292</td><td>0       </td><td>1       </td><td> 96285  </td><td>3       </td></tr>\n",
       "\t<tr><td>2008    </td><td> 1445576</td><td> 3648000</td><td>5400000 </td><td> 210000 </td><td>42700   </td><td>2650    </td><td>10748926</td><td> 9303350</td><td>18076338</td><td>...     </td><td>0       </td><td>0       </td><td>0       </td><td>0       </td><td>0       </td><td>1589.367</td><td>0       </td><td>0       </td><td>108757  </td><td>5       </td></tr>\n",
       "</tbody>\n",
       "</table>\n"
      ],
      "text/latex": [
       "\\begin{tabular}{r|llllllllllllllllllllllllllllllll}\n",
       " year & personal & corporate & party & group & anonymous & other & total & net & opp & ... & kmt16 & dpp & pfp & new & none & income & times & member & pre & riv\\\\\n",
       "\\hline\n",
       "\t 2008     & 10745270 & 17018120 & 5920000  & 1782000  & 24000    & 7858     & 35497248 & 24751978 &  8526685 & ...      & 0        & 0        & 0        & 0        & 0        & 1156.132 & 0        & 1        & 121956   & 4       \\\\\n",
       "\t 2008     &  5258500 &  2526000 &  300000  &  430000  & 11000    & 1185     &  8526685 &  3268185 & 35497248 & ...      & 0        & 1        & 0        & 0        & 0        & 1156.132 & 0        & 0        &  83398   & 4       \\\\\n",
       "\t 2008     & 15851900 & 19934048 & 7310000  &  540000  & 77188    & 4433     & 43717569 & 27865669 & 10805404 & ...      & 0        & 0        & 0        & 0        & 0        & 1172.292 & 0        & 0        & 104488   & 3       \\\\\n",
       "\t 2008     &  3802000 &  6503388 &  500000  &       0  &     0    &   16     & 10805404 &  7003404 & 43717569 & ...      & 0        & 1        & 0        & 0        & 0        & 1172.292 & 0        & 1        &  96285   & 3       \\\\\n",
       "\t 2008     &  1445576 &  3648000 & 5400000  &  210000  & 42700    & 2650     & 10748926 &  9303350 & 18076338 & ...      & 0        & 0        & 0        & 0        & 0        & 1589.367 & 0        & 0        & 108757   & 5       \\\\\n",
       "\\end{tabular}\n"
      ],
      "text/markdown": [
       "\n",
       "year | personal | corporate | party | group | anonymous | other | total | net | opp | ... | kmt16 | dpp | pfp | new | none | income | times | member | pre | riv | \n",
       "|---|---|---|---|---|\n",
       "| 2008     | 10745270 | 17018120 | 5920000  | 1782000  | 24000    | 7858     | 35497248 | 24751978 |  8526685 | ...      | 0        | 0        | 0        | 0        | 0        | 1156.132 | 0        | 1        | 121956   | 4        | \n",
       "| 2008     |  5258500 |  2526000 |  300000  |  430000  | 11000    | 1185     |  8526685 |  3268185 | 35497248 | ...      | 0        | 1        | 0        | 0        | 0        | 1156.132 | 0        | 0        |  83398   | 4        | \n",
       "| 2008     | 15851900 | 19934048 | 7310000  |  540000  | 77188    | 4433     | 43717569 | 27865669 | 10805404 | ...      | 0        | 0        | 0        | 0        | 0        | 1172.292 | 0        | 0        | 104488   | 3        | \n",
       "| 2008     |  3802000 |  6503388 |  500000  |       0  |     0    |   16     | 10805404 |  7003404 | 43717569 | ...      | 0        | 1        | 0        | 0        | 0        | 1172.292 | 0        | 1        |  96285   | 3        | \n",
       "| 2008     |  1445576 |  3648000 | 5400000  |  210000  | 42700    | 2650     | 10748926 |  9303350 | 18076338 | ...      | 0        | 0        | 0        | 0        | 0        | 1589.367 | 0        | 0        | 108757   | 5        | \n",
       "\n",
       "\n"
      ],
      "text/plain": [
       "  year personal corporate party   group   anonymous other total    net     \n",
       "1 2008 10745270 17018120  5920000 1782000 24000     7858  35497248 24751978\n",
       "2 2008  5258500  2526000   300000  430000 11000     1185   8526685  3268185\n",
       "3 2008 15851900 19934048  7310000  540000 77188     4433  43717569 27865669\n",
       "4 2008  3802000  6503388   500000       0     0       16  10805404  7003404\n",
       "5 2008  1445576  3648000  5400000  210000 42700     2650  10748926  9303350\n",
       "  opp      ... kmt16 dpp pfp new none income   times member pre    riv\n",
       "1  8526685 ... 0     0   0   0   0    1156.132 0     1      121956 4  \n",
       "2 35497248 ... 0     1   0   0   0    1156.132 0     0       83398 4  \n",
       "3 10805404 ... 0     0   0   0   0    1172.292 0     0      104488 3  \n",
       "4 43717569 ... 0     1   0   0   0    1172.292 0     1       96285 3  \n",
       "5 18076338 ... 0     0   0   0   0    1589.367 0     0      108757 5  "
      ]
     },
     "metadata": {},
     "output_type": "display_data"
    }
   ],
   "source": [
    "df[1:5,]"
   ]
  },
  {
   "cell_type": "code",
   "execution_count": 23,
   "metadata": {},
   "outputs": [],
   "source": [
    "per = df['per']"
   ]
  },
  {
   "cell_type": "code",
   "execution_count": 27,
   "metadata": {},
   "outputs": [
    {
     "data": {
      "text/html": [
       "<ol class=list-inline>\n",
       "\t<li>59.82</li>\n",
       "\t<li>38.79</li>\n",
       "\t<li>52.4</li>\n",
       "\t<li>45.19</li>\n",
       "\t<li>60.25</li>\n",
       "</ol>\n"
      ],
      "text/latex": [
       "\\begin{enumerate*}\n",
       "\\item 59.82\n",
       "\\item 38.79\n",
       "\\item 52.4\n",
       "\\item 45.19\n",
       "\\item 60.25\n",
       "\\end{enumerate*}\n"
      ],
      "text/markdown": [
       "1. 59.82\n",
       "2. 38.79\n",
       "3. 52.4\n",
       "4. 45.19\n",
       "5. 60.25\n",
       "\n",
       "\n"
      ],
      "text/plain": [
       "[1] 59.82 38.79 52.40 45.19 60.25"
      ]
     },
     "metadata": {},
     "output_type": "display_data"
    }
   ],
   "source": [
    "per[1:5,]"
   ]
  },
  {
   "cell_type": "code",
   "execution_count": 28,
   "metadata": {},
   "outputs": [],
   "source": [
    "total = df['total']"
   ]
  },
  {
   "cell_type": "code",
   "execution_count": 29,
   "metadata": {},
   "outputs": [
    {
     "data": {
      "text/html": [
       "<ol class=list-inline>\n",
       "\t<li>35497248</li>\n",
       "\t<li>8526685</li>\n",
       "\t<li>43717569</li>\n",
       "\t<li>10805404</li>\n",
       "\t<li>10748926</li>\n",
       "</ol>\n"
      ],
      "text/latex": [
       "\\begin{enumerate*}\n",
       "\\item 35497248\n",
       "\\item 8526685\n",
       "\\item 43717569\n",
       "\\item 10805404\n",
       "\\item 10748926\n",
       "\\end{enumerate*}\n"
      ],
      "text/markdown": [
       "1. 35497248\n",
       "2. 8526685\n",
       "3. 43717569\n",
       "4. 10805404\n",
       "5. 10748926\n",
       "\n",
       "\n"
      ],
      "text/plain": [
       "[1] 35497248  8526685 43717569 10805404 10748926"
      ]
     },
     "metadata": {},
     "output_type": "display_data"
    }
   ],
   "source": [
    "total[1:5,]"
   ]
  },
  {
   "cell_type": "code",
   "execution_count": 19,
   "metadata": {},
   "outputs": [
    {
     "data": {
      "text/plain": [
       "\n",
       "Call:\n",
       "lm(formula = as.matrix(per) ~ as.matrix(total))\n",
       "\n",
       "Residuals:\n",
       "     Min       1Q   Median       3Q      Max \n",
       "-18.7455  -7.0595  -0.0603   5.4609  24.7040 \n",
       "\n",
       "Coefficients:\n",
       "                  Estimate Std. Error t value Pr(>|t|)    \n",
       "(Intercept)      3.725e+01  1.718e+00  21.676  < 2e-16 ***\n",
       "as.matrix(total) 5.094e-07  7.473e-08   6.816 7.17e-10 ***\n",
       "---\n",
       "Signif. codes:  0 '***' 0.001 '**' 0.01 '*' 0.05 '.' 0.1 ' ' 1\n",
       "\n",
       "Residual standard error: 8.819 on 100 degrees of freedom\n",
       "Multiple R-squared:  0.3172,\tAdjusted R-squared:  0.3104 \n",
       "F-statistic: 46.46 on 1 and 100 DF,  p-value: 7.172e-10\n"
      ]
     },
     "metadata": {},
     "output_type": "display_data"
    }
   ],
   "source": [
    "summary(lm(as.matrix(per)~as.matrix(total)))"
   ]
  }
 ],
 "metadata": {
  "kernelspec": {
   "display_name": "R",
   "language": "R",
   "name": "ir"
  },
  "language_info": {
   "codemirror_mode": "r",
   "file_extension": ".r",
   "mimetype": "text/x-r-source",
   "name": "R",
   "pygments_lexer": "r",
   "version": "3.4.1"
  }
 },
 "nbformat": 4,
 "nbformat_minor": 2
}
