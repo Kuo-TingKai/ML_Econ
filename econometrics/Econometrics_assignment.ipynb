{
 "cells": [
  {
   "cell_type": "code",
   "execution_count": 1,
   "metadata": {
    "collapsed": true
   },
   "outputs": [],
   "source": [
    "#This is the out-course assignment for the econometrics lession.\n",
    "#I will demonstrate how to do multiple regression in Python,R and Excel"
   ]
  },
  {
   "cell_type": "code",
   "execution_count": 2,
   "metadata": {
    "collapsed": true
   },
   "outputs": [],
   "source": [
    "import pandas as pd"
   ]
  },
  {
   "cell_type": "code",
   "execution_count": 47,
   "metadata": {},
   "outputs": [],
   "source": [
    "# df = pd.read_csv(\"0608.csv\",'sheet2',engine='python',header=0,sep=',')"
   ]
  },
  {
   "cell_type": "code",
   "execution_count": 48,
   "metadata": {
    "collapsed": true
   },
   "outputs": [],
   "source": [
    "df = pd.read_excel(\"0608.xlsx\")# re-save the csv file as xlsx to prevent some formmat problem"
   ]
  },
  {
   "cell_type": "code",
   "execution_count": 54,
   "metadata": {},
   "outputs": [
    {
     "data": {
      "text/html": [
       "<div>\n",
       "<table border=\"1\" class=\"dataframe\">\n",
       "  <thead>\n",
       "    <tr style=\"text-align: right;\">\n",
       "      <th></th>\n",
       "      <th>per</th>\n",
       "      <th>total</th>\n",
       "    </tr>\n",
       "  </thead>\n",
       "  <tbody>\n",
       "    <tr>\n",
       "      <th>丁守中</th>\n",
       "      <td>59.82</td>\n",
       "      <td>35497248</td>\n",
       "    </tr>\n",
       "    <tr>\n",
       "      <th>高建智</th>\n",
       "      <td>38.79</td>\n",
       "      <td>8526685</td>\n",
       "    </tr>\n",
       "    <tr>\n",
       "      <th>周守訓</th>\n",
       "      <td>52.40</td>\n",
       "      <td>43717569</td>\n",
       "    </tr>\n",
       "    <tr>\n",
       "      <th>王世堅</th>\n",
       "      <td>45.19</td>\n",
       "      <td>10805404</td>\n",
       "    </tr>\n",
       "    <tr>\n",
       "      <th>蔣孝嚴</th>\n",
       "      <td>60.25</td>\n",
       "      <td>10748926</td>\n",
       "    </tr>\n",
       "  </tbody>\n",
       "</table>\n",
       "</div>"
      ],
      "text/plain": [
       "       per     total\n",
       "丁守中  59.82  35497248\n",
       "高建智  38.79   8526685\n",
       "周守訓  52.40  43717569\n",
       "王世堅  45.19  10805404\n",
       "蔣孝嚴  60.25  10748926"
      ]
     },
     "execution_count": 54,
     "metadata": {},
     "output_type": "execute_result"
    }
   ],
   "source": [
    "df[['per','total']].head(5) #find the corresponding columns in the problem sets"
   ]
  },
  {
   "cell_type": "code",
   "execution_count": 65,
   "metadata": {},
   "outputs": [
    {
     "name": "stdout",
     "output_type": "stream",
     "text": [
      "Coefficients: \n",
      " [[5.09388195e-07]]\n",
      "Intecept: \n",
      " [37.24790544]\n"
     ]
    },
    {
     "data": {
      "image/png": "[encoded data removed]",
      "text/plain": [
       "<matplotlib.figure.Figure at 0x48be410320>"
      ]
     },
     "metadata": {},
     "output_type": "display_data"
    },
    {
     "data": {
      "text/plain": [
       "\"\\n# Plot outputs\\nplt.scatter(diabetes_X_test, diabetes_y_test,  color='black')\\nplt.plot(diabetes_X_test, diabetes_y_pred, color='blue', linewidth=3)\\n\\nplt.xticks(())\\nplt.yticks(())\\n\\nplt.show()\\n\""
      ]
     },
     "execution_count": 65,
     "metadata": {},
     "output_type": "execute_result"
    }
   ],
   "source": [
    "import matplotlib.pyplot as plt\n",
    "import numpy as np\n",
    "from sklearn import datasets, linear_model\n",
    "from sklearn.metrics import mean_squared_error, r2_score\n",
    "\n",
    "per = np.array(df['per']).reshape(-1,1)\n",
    "total = np.array(df['total']).reshape(-1,1)\n",
    "\n",
    "regr = linear_model.LinearRegression()\n",
    "\n",
    "regr.fit(total,per)\n",
    "\n",
    "per_pred = regr.predict(total)\n",
    "# The coefficients\n",
    "print('Coefficients: \\n', regr.coef_)\n",
    "print('Intecept: \\n', regr.intercept_)\n",
    "plt.scatter(total,per,  color='black')\n",
    "plt.plot(total, per_pred, color='blue', linewidth=3)\n",
    "\n",
    "plt.xticks(())\n",
    "plt.yticks(())\n",
    "plt.show()\n"
   ]
  },
  {
   "cell_type": "code",
   "execution_count": null,
   "metadata": {
    "collapsed": true
   },
   "outputs": [],
   "source": []
  }
 ],
 "metadata": {
  "kernelspec": {
   "display_name": "Python [default]",
   "language": "python",
   "name": "python3"
  },
  "language_info": {
   "codemirror_mode": {
    "name": "ipython",
    "version": 3
   },
   "file_extension": ".py",
   "mimetype": "text/x-python",
   "name": "python",
   "nbconvert_exporter": "python",
   "pygments_lexer": "ipython3",
   "version": "3.5.4"
  }
 },
 "nbformat": 4,
 "nbformat_minor": 2
}
