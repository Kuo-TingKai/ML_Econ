{
 "cells": [
  {
   "cell_type": "markdown",
   "metadata": {},
   "source": [
    "$$\\newcommand{\\ket}[1]{\\left|{#1}\\right\\rangle}$$\n",
    "$$\\newcommand{\\bra}[1]{\\left\\langle{#1}\\right|}$$\n",
    "$$\\newcommand{\\braket}[2]{\\left\\langle{#1}\\middle|{#2}\\right\\rangle}$$\n",
    "$$\\newcommand{\\E}[1]{\\left\\langle{#1}\\right\\rangle}$$"
   ]
  },
  {
   "cell_type": "markdown",
   "metadata": {},
   "source": [
    "- Recap"
   ]
  },
  {
   "cell_type": "markdown",
   "metadata": {},
   "source": [
    "$$f(\\hat{H})=f(\\lambda)\\ket{\\psi}$$\n",
    "$$\\braket{x'}{x}=\\delta(x-x')$$\n",
    "$$I' = \\int_{\\rm I\\!R}^{}dx'\\ket{x'}\\bra{x}$$\n",
    "$$\\braket{\\phi}{\\psi} = \\int_{R}dx\\braket{\\phi}{x}{x}{\\psi} = \\int_{R}dx\\phi^{\\ast}(x)\\psi(x)$$\n",
    "$$\\E{\\hat{x}}_\\psi = \\bra{\\psi}\\hat{x}\\ket{\\psi} = \\int dx\\,x|\\psi(x)|^2$$\n",
    "$$\\E{f(\\hat{x})_\\psi} = \\int dx\\,f(x)|\\psi(x)|^2$$"
   ]
  },
  {
   "cell_type": "markdown",
   "metadata": {},
   "source": [
    "  It can be rewrite as:"
   ]
  },
  {
   "cell_type": "markdown",
   "metadata": {},
   "source": [
    "$$\\bra{\\psi}f(\\hat{x}\\ket{\\psi} = \\int dx\\,\\bra{\\psi}f(\\hat{x})\\ket{x}\\braket{x}{\\psi}=\\int dx \\bra{\\psi}f(x)\\ket{x}\\braket{x}{\\psi} = \\int dx\\, f(x)\\braket{\\psi}{x}\\braket{x}{\\psi} = \\int dx\\, f(x)\\psi^{\\ast}\\psi(x)$$"
   ]
  },
  {
   "cell_type": "markdown",
   "metadata": {},
   "source": [
    "- Translation operator $$\\hat{T}(a)$$"
   ]
  },
  {
   "cell_type": "markdown",
   "metadata": {},
   "source": [
    "$$\\hat{T}\\hat{T}^\\dagger = \\hat{T}^\\dagger \\hat{T} = \\hat{I}$$"
   ]
  },
  {
   "cell_type": "markdown",
   "metadata": {},
   "source": [
    "- Errata: T is unitary, not hermite"
   ]
  },
  {
   "cell_type": "markdown",
   "metadata": {},
   "source": [
    "- as a tends to be 0\n",
    "$$\\frac{d}{da}\\hat{T}(a)\\bracevert_{a=0}=iG\\, ,\\, \\hat{G}^\\dagger = \\hat{G}$$"
   ]
  },
  {
   "cell_type": "markdown",
   "metadata": {},
   "source": [
    "$$[a\\hat{G}]=1\\, ,[a]=[L]\\rightarrow [\\hat{G}]=[\\frac{1}{L}] \\leadsto \\frac{\\hat{P}}{\\hbar}$$"
   ]
  },
  {
   "cell_type": "code",
   "execution_count": 37,
   "metadata": {
    "collapsed": true
   },
   "outputs": [],
   "source": [
    "#eigen decomposition\n",
    "from numpy import linalg as LA\n",
    "from numpy import multiply\n",
    "from numpy import dot\n",
    "import numpy as np\n",
    "a = np.array([[1, 1j], [-1j, 1]])\n",
    "w, v = LA.eig(a)\n",
    "\n",
    "#verify\n",
    "\n",
    "#horizontal combine two eigenvalues\n"
   ]
  },
  {
   "cell_type": "code",
   "execution_count": 38,
   "metadata": {
    "collapsed": true
   },
   "outputs": [],
   "source": [
    "D = np.diag(w)"
   ]
  },
  {
   "cell_type": "code",
   "execution_count": 56,
   "metadata": {},
   "outputs": [],
   "source": [
    "M=np.hstack((v[1],v[0])).reshape((2,2))"
   ]
  },
  {
   "cell_type": "code",
   "execution_count": 57,
   "metadata": {},
   "outputs": [
    {
     "data": {
      "text/plain": [
       "array([[ 1.+0.j,  0.+1.j],\n",
       "       [ 0.+1.j, -1.+0.j]])"
      ]
     },
     "execution_count": 57,
     "metadata": {},
     "output_type": "execute_result"
    }
   ],
   "source": [
    "dot(dot(M.T,D),M)#still !=a"
   ]
  },
  {
   "cell_type": "code",
   "execution_count": 43,
   "metadata": {},
   "outputs": [
    {
     "data": {
      "text/plain": [
       "array([[ 1.+0.j,  0.+1.j],\n",
       "       [-0.-1.j,  1.+0.j]])"
      ]
     },
     "execution_count": 43,
     "metadata": {},
     "output_type": "execute_result"
    }
   ],
   "source": [
    "a"
   ]
  },
  {
   "cell_type": "code",
   "execution_count": 54,
   "metadata": {},
   "outputs": [
    {
     "data": {
      "text/plain": [
       "array([2.+0.j, 0.+0.j])"
      ]
     },
     "execution_count": 54,
     "metadata": {},
     "output_type": "execute_result"
    }
   ],
   "source": [
    "w"
   ]
  },
  {
   "cell_type": "code",
   "execution_count": null,
   "metadata": {
    "collapsed": true
   },
   "outputs": [],
   "source": []
  }
 ],
 "metadata": {
  "kernelspec": {
   "display_name": "Python [default]",
   "language": "python",
   "name": "python3"
  },
  "language_info": {
   "codemirror_mode": {
    "name": "ipython",
    "version": 3
   },
   "file_extension": ".py",
   "mimetype": "text/x-python",
   "name": "python",
   "nbconvert_exporter": "python",
   "pygments_lexer": "ipython3",
   "version": "3.5.4"
  }
 },
 "nbformat": 4,
 "nbformat_minor": 2
}
