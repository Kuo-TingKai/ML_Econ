{
 "cells": [
  {
   "cell_type": "code",
   "execution_count": 31,
   "metadata": {},
   "outputs": [
    {
     "data": {
      "image/png": "[encoded data removed]",
      "text/plain": [
       "<matplotlib.figure.Figure at 0xca4f5e0eb8>"
      ]
     },
     "metadata": {},
     "output_type": "display_data"
    }
   ],
   "source": [
    "\"\"\"\n",
    "stable nodes: both roots <0\n",
    "x(t)=c1 exp(-2t) + 1\n",
    "y(t)=c2 exp(-3t) + 2\n",
    "x0=3\n",
    "y0=1/2\n",
    "\"\"\"\n",
    "\n",
    "\n",
    "import numpy as np\n",
    "from matplotlib.pyplot import *\n",
    "from IPython.display import *\n",
    "from matplotlib.patches import *\n",
    "from time import sleep\n",
    "\n",
    "def solution():\n",
    "    c1 = 3-1\n",
    "    c2 = 1/2-2\n",
    "    t = np.linspace(-10,10,100)\n",
    "    fx = c1*np.exp(-2*t)+1\n",
    "    fy = c2*np.exp(-3*t)+2\n",
    "#     for i in range(len(t)):\n",
    "#         clf()\n",
    "#         scatter(fx[i],fy[i],s=10)\n",
    "#         xlim(0,4)\n",
    "#         ylim(0,2)\n",
    "#         show()\n",
    "#         display(gcf())\n",
    "#         clear_output(wait=True)\n",
    "    scatter(fx,fy,s=10)\n",
    "    show()\n",
    "solution()"
   ]
  },
  {
   "cell_type": "code",
   "execution_count": 37,
   "metadata": {},
   "outputs": [
    {
     "data": {
      "image/png": "[encoded data removed]",
      "text/plain": [
       "<matplotlib.figure.Figure at 0xca4de45400>"
      ]
     },
     "metadata": {},
     "output_type": "display_data"
    }
   ],
   "source": [
    "def trajectory():\n",
    "    c1 = 3-1\n",
    "    c2 = 1/2-2\n",
    "    x=3\n",
    "    y=1/2\n",
    "    t = np.linspace(0,2,100)\n",
    "    \n",
    "    def fx(t=t,c1=c1):\n",
    "        return c1*np.exp(-2*t)+1\n",
    "    def fy(t=t,c2=c2):\n",
    "        return c2*np.exp(-3*t)+2\n",
    "    \n",
    "    dfx=np.diff(fx())\n",
    "    dfy=np.diff(fy())\n",
    "    \n",
    "    for i in range(0,len(t)-1):\n",
    "        x+=dfx[i]\n",
    "        y+=dfy[i]\n",
    "        scatter(x,y,s=10)\n",
    "        xlim(1,3)\n",
    "        ylim(0,2)\n",
    "        show()\n",
    "        clear_output(wait=True)\n",
    "trajectory()"
   ]
  },
  {
   "cell_type": "code",
   "execution_count": null,
   "metadata": {
    "collapsed": true
   },
   "outputs": [],
   "source": []
  }
 ],
 "metadata": {
  "kernelspec": {
   "display_name": "Python [default]",
   "language": "python",
   "name": "python3"
  },
  "language_info": {
   "codemirror_mode": {
    "name": "ipython",
    "version": 3
   },
   "file_extension": ".py",
   "mimetype": "text/x-python",
   "name": "python",
   "nbconvert_exporter": "python",
   "pygments_lexer": "ipython3",
   "version": "3.5.4"
  }
 },
 "nbformat": 4,
 "nbformat_minor": 2
}
