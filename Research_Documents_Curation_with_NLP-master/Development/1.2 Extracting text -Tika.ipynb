{
 "cells": [
  {
   "cell_type": "markdown",
   "metadata": {},
   "source": [
    "# Extract Text Using Tika"
   ]
  },
  {
   "cell_type": "markdown",
   "metadata": {},
   "source": [
    "import packages "
   ]
  },
  {
   "cell_type": "code",
   "execution_count": 5,
   "metadata": {
    "collapsed": true
   },
   "outputs": [],
   "source": [
    "import tika\n",
    "from tika import parser\n",
    "import glob\n",
    "import os"
   ]
  },
  {
   "cell_type": "code",
   "execution_count": 6,
   "metadata": {
    "collapsed": true
   },
   "outputs": [],
   "source": [
    "tika.initVM()"
   ]
  },
  {
   "cell_type": "markdown",
   "metadata": {},
   "source": [
    "parse and save every document in under papers directory"
   ]
  },
  {
   "cell_type": "code",
   "execution_count": 8,
   "metadata": {
    "scrolled": false
   },
   "outputs": [
    {
     "name": "stdout",
     "output_type": "stream",
     "text": [
      "50 papers extracted.\n"
     ]
    },
    {
     "name": "stderr",
     "output_type": "stream",
     "text": [
      "2018-10-25 23:26:31,708 [MainThread  ] [WARNI]  Tika server returned status: 422\n"
     ]
    },
    {
     "name": "stdout",
     "output_type": "stream",
     "text": [
      "100 papers extracted.\n",
      "150 papers extracted.\n",
      "200 papers extracted.\n",
      "250 papers extracted.\n",
      "300 papers extracted.\n",
      "350 papers extracted.\n",
      "400 papers extracted.\n",
      "450 papers extracted.\n",
      "500 papers extracted.\n",
      "550 papers extracted.\n",
      "600 papers extracted.\n",
      "650 papers extracted.\n",
      "700 papers extracted.\n",
      "750 papers extracted.\n",
      "800 papers extracted.\n",
      "850 papers extracted.\n",
      "900 papers extracted.\n",
      "950 papers extracted.\n",
      "1000 papers extracted.\n"
     ]
    }
   ],
   "source": [
    "parsed_number = 0\n",
    "for i in glob.glob('./papers/*.pdf'):\n",
    "    try:\n",
    "        parsed = parser.from_file(i)\n",
    "        file_name = i.split('\\\\')[-1].split('.')[0][:50]\n",
    "        text_file = open('./extracted_papers/' + file_name + \".txt\", \"wb\")\n",
    "        text_file.write(parsed[\"content\"].encode('utf-8', errors='ignore'))\n",
    "    except:\n",
    "        pass\n",
    "    \n",
    "    parsed_number += 1\n",
    "    if parsed_number %50 == 0:\n",
    "        print(str(parsed_number) + ' papers extracted.')\n",
    "    text_file.close()"
   ]
  },
  {
   "cell_type": "code",
   "execution_count": null,
   "metadata": {
    "collapsed": true
   },
   "outputs": [],
   "source": []
  }
 ],
 "metadata": {
  "kernelspec": {
   "display_name": "Python 3",
   "language": "python",
   "name": "python3"
  },
  "language_info": {
   "codemirror_mode": {
    "name": "ipython",
    "version": 3
   },
   "file_extension": ".py",
   "mimetype": "text/x-python",
   "name": "python",
   "nbconvert_exporter": "python",
   "pygments_lexer": "ipython3",
   "version": "3.6.3"
  }
 },
 "nbformat": 4,
 "nbformat_minor": 2
}
