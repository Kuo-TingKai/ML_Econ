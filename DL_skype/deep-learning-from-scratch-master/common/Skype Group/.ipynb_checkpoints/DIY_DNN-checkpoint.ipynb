{
 "cells": [
  {
   "cell_type": "markdown",
   "metadata": {},
   "source": [
    "# Today's Topic: How to implement a workable toy model of deep neuro-network\n",
    "\n",
    "\n",
    "\n",
    "## 1. Components:\n",
    "- Layers\n",
    "\n",
    "- Activate functions\n",
    "## 2. Training:\n",
    "- gradient descent method\n",
    "\n",
    "\n",
    "  "
   ]
  },
  {
   "cell_type": "markdown",
   "metadata": {},
   "source": []
  }
 ],
 "metadata": {
  "kernelspec": {
   "display_name": "Python [default]",
   "language": "python",
   "name": "python3"
  },
  "language_info": {
   "codemirror_mode": {
    "name": "ipython",
    "version": 3
   },
   "file_extension": ".py",
   "mimetype": "text/x-python",
   "name": "python",
   "nbconvert_exporter": "python",
   "pygments_lexer": "ipython3",
   "version": "3.5.4"
  }
 },
 "nbformat": 4,
 "nbformat_minor": 2
}
