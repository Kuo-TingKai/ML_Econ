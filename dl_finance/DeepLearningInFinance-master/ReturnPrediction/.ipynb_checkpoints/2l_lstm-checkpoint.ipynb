{
 "cells": [
  {
   "cell_type": "code",
   "execution_count": 8,
   "metadata": {},
   "outputs": [
    {
     "name": "stderr",
     "output_type": "stream",
     "text": [
      "Using TensorFlow backend.\n",
      "C:\\Users\\user\\Anaconda3\\envs\\py35\\lib\\site-packages\\h5py\\__init__.py:36: FutureWarning: Conversion of the second argument of issubdtype from `float` to `np.floating` is deprecated. In future, it will be treated as `np.float64 == np.dtype(float).type`.\n",
      "  from ._conv import register_converters as _register_converters\n"
     ]
    }
   ],
   "source": [
    "# %load ReturnPrediction_LSTM.py\n",
    "\"\"\"\n",
    "Created on Sat Apr  1 13:32:13 2017\n",
    "\n",
    "@author: sonaa\n",
    "\"\"\"\n",
    "\n",
    "\n",
    "import os\n",
    "import time\n",
    "import warnings\n",
    "import numpy as np\n",
    "import pandas as pd\n",
    "from numpy import newaxis\n",
    "from keras.layers.core import Dense, Activation, Dropout\n",
    "from keras.layers import Convolution1D, MaxPooling1D, Flatten,  Embedding\n",
    "from keras.layers import Conv1D, GlobalMaxPooling1D\n",
    "from keras.layers.recurrent import LSTM\n",
    "from keras.models import Sequential\n",
    "from datetime import datetime\n",
    "import matplotlib.pyplot as plt\n",
    "from sklearn.preprocessing import StandardScaler, Normalizer"
   ]
  },
  {
   "cell_type": "code",
   "execution_count": null,
   "metadata": {
    "collapsed": true
   },
   "outputs": [],
   "source": [
    "np.random.seed(7)\n",
    "\n",
    "os.environ['TF_CPP_MIN_LOG_LEVEL'] = '3'\n",
    "\"\"\"\n",
    "import os\n",
    "os.environ[‘TF_CPP_MIN_LOG_LEVEL‘]=‘1‘ # 这是默认的显示等级，显示所有信息\n",
    "\n",
    "# 2级\n",
    "import os\n",
    "os.environ[‘TF_CPP_MIN_LOG_LEVEL‘]=‘2‘ # 只显示 warning 和 Error\n",
    "\n",
    "# 3级\n",
    "import os\n",
    "os.environ[‘TF_CPP_MIN_LOG_LEVEL‘]=‘3‘ # 只显示 Error\n",
    "\n",
    "\"\"\"\n",
    "warnings.filterwarnings(\"ignore\") \n",
    "\"\"\"\n",
    "Insert an entry into the list of warnings filters (at the front).\n",
    "\n",
    "    'action' -- one of \"error\", \"ignore\", \"always\", \"default\", \"module\",\n",
    "                or \"once\"\n",
    "    'message' -- a regex that the warning message must match\n",
    "    'category' -- a class that the warning must be a subclass of\n",
    "    'module' -- a regex that the module name must match\n",
    "    'lineno' -- an integer line number, 0 matches all warnings\n",
    "    'append' -- if true, append to the list of filters\n",
    "\"\"\"\n",
    "df = pd.read_hdf('DeepLearning.h5', 'Data_Gold')\n",
    "\n",
    "\n",
    "for c in df.columns:\n",
    "    df[c+'_ret'] = df[c].pct_change().fillna(0)\n",
    "\n",
    "def create_dataset(dataset, look_back=1, columns = ['Gold']):\n",
    "    dataX, dataY = [], []\n",
    "    for i in range(len(dataset.index)):\n",
    "        if i <= look_back:\n",
    "            continue\n",
    "        a = None\n",
    "        for c in columns:\n",
    "            b = dataset.loc[dataset.index[i-look_back:i], c].as_matrix()\n",
    "            if a is None:\n",
    "                a = b\n",
    "            else:\n",
    "                a = np.append(a,b)\n",
    "        dataX.append(a)\n",
    "        dataY.append(dataset.loc[dataset.index[i], columns].as_matrix())\n",
    "    return np.array(dataX), np.array(dataY)\n",
    "\n",
    "look_back = 12\n",
    "sc = StandardScaler()\n",
    "df.loc[:, 'Gold'] = sc.fit_transform(df.loc[:, 'Gold'])\n",
    "sc1 = StandardScaler()\n",
    "df.loc[:, 'Inflation'] = sc1.fit_transform(df.loc[:, 'Inflation'])\n",
    "sc2 = StandardScaler()\n",
    "df.loc[:, 'InterestRate'] = sc1.fit_transform(df.loc[:, 'InterestRate'])\n",
    "sc2 = StandardScaler()\n",
    "df.loc[:, 'DJI'] = sc1.fit_transform(df.loc[:, 'DJI'])\n",
    "\n",
    "train_df = df.loc[df.index < pd.to_datetime('2016-01-01')]\n",
    "\n",
    "timeseries = np.asarray(df.Gold)\n",
    "timeseries = np.atleast_2d(timeseries)\n",
    "if timeseries.shape[0] == 1:\n",
    "        timeseries = timeseries.T\n",
    "X = np.atleast_3d(np.array([timeseries[start:start + look_back] for start in range(0, timeseries.shape[0] - look_back)]))\n",
    "y = timeseries[look_back:]\n",
    "\n",
    "predictors = ['Gold']#, 'DJI','Inflation']#, 'InterestRate']\n",
    "#TRAIN_SIZE = train_x.shape[0]\n",
    "#EMB_SIZE = look_back\n",
    "model = Sequential()\n",
    "model.add(LSTM(input_shape = (1,), input_dim=1, output_dim=6, return_sequences=True))\n",
    "model.add(LSTM(input_shape = (1,), input_dim=1, output_dim=6, return_sequences=False))\n",
    "model.add(Dense(1))\n",
    "model.add(Activation('linear'))\n",
    "model.compile(loss=\"mse\", optimizer=\"rmsprop\")\n",
    "model.fit(X, \n",
    "          y, \n",
    "          epochs=1000, \n",
    "          batch_size=80, verbose=1, shuffle=False)\n",
    "\n",
    "\n",
    "\n",
    "df['Pred'] = df.loc[df.index[0], 'Gold']\n",
    "for i in range(len(df.index)):\n",
    "    if i <= look_back:\n",
    "        continue\n",
    "    a = None\n",
    "    for c in predictors:\n",
    "        b = df.loc[df.index[i-look_back:i], c].as_matrix()\n",
    "        if a is None:\n",
    "            a = b\n",
    "        else:\n",
    "            a = np.append(a,b)\n",
    "        a = a\n",
    "    y = model.predict(a.reshape(1,look_back*len(predictors),1))\n",
    "    df.loc[df.index[i], 'Pred']=y[0][0]\n",
    "df.to_hdf('DeepLearning.h5', 'Pred_LSTM')\n",
    "df.loc[:, 'Gold'] = sc.inverse_transform(df.loc[:, 'Gold'])\n",
    "df.loc[:, 'Pred'] = sc.inverse_transform(df.loc[:, 'Pred'])\n",
    "plt.plot(df.Gold,'y')\n",
    "plt.plot(df.Pred, 'g')"
   ]
  },
  {
   "cell_type": "code",
   "execution_count": 6,
   "metadata": {},
   "outputs": [],
   "source": [
    "*lstm?"
   ]
  },
  {
   "cell_type": "code",
   "execution_count": 7,
   "metadata": {
    "collapsed": true
   },
   "outputs": [],
   "source": [
    "#ctrl shift p: commands list"
   ]
  },
  {
   "cell_type": "code",
   "execution_count": 11,
   "metadata": {},
   "outputs": [],
   "source": [
    "?os.environ"
   ]
  },
  {
   "cell_type": "code",
   "execution_count": 14,
   "metadata": {
    "scrolled": true
   },
   "outputs": [
    {
     "name": "stdout",
     "output_type": "stream",
     "text": [
      "Insert an entry into the list of warnings filters (at the front).\n",
      "\n",
      "    'action' -- one of \"error\", \"ignore\", \"always\", \"default\", \"module\",\n",
      "                or \"once\"\n",
      "    'message' -- a regex that the warning message must match\n",
      "    'category' -- a class that the warning must be a subclass of\n",
      "    'module' -- a regex that the module name must match\n",
      "    'lineno' -- an integer line number, 0 matches all warnings\n",
      "    'append' -- if true, append to the list of filters\n",
      "    \n"
     ]
    }
   ],
   "source": [
    "print(warnings.filterwarnings.__doc__) "
   ]
  },
  {
   "cell_type": "code",
   "execution_count": null,
   "metadata": {
    "collapsed": true
   },
   "outputs": [],
   "source": []
  }
 ],
 "metadata": {
  "kernelspec": {
   "display_name": "Python [default]",
   "language": "python",
   "name": "python3"
  },
  "language_info": {
   "codemirror_mode": {
    "name": "ipython",
    "version": 3
   },
   "file_extension": ".py",
   "mimetype": "text/x-python",
   "name": "python",
   "nbconvert_exporter": "python",
   "pygments_lexer": "ipython3",
   "version": "3.5.4"
  }
 },
 "nbformat": 4,
 "nbformat_minor": 2
}
