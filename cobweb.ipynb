{
 "cells": [
  {
   "cell_type": "code",
   "execution_count": 5,
   "metadata": {},
   "outputs": [
    {
     "data": {
      "image/png": "[encoded data removed]",
      "text/plain": [
       "<matplotlib.figure.Figure at 0xa48ad5f9b0>"
      ]
     },
     "metadata": {},
     "output_type": "display_data"
    },
    {
     "data": {
      "text/plain": [
       "<matplotlib.figure.Figure at 0xa489b95d30>"
      ]
     },
     "metadata": {},
     "output_type": "display_data"
    }
   ],
   "source": [
    "import numpy as np\n",
    "from matplotlib.pyplot import *\n",
    "from IPython.display import *\n",
    "from matplotlib.patches import *\n",
    "from time import sleep\n",
    "\n",
    "def D(x,slope=-2,intercept=2):\n",
    "    if type(x)==float:\n",
    "        return slope*x+intercept \n",
    "    if x.dtype==np.dtype('float64'):\n",
    "        return slope*x+intercept \n",
    "def S(x,slope=3,intercept=0):\n",
    "    if type(x)==float:\n",
    "        return slope*x+intercept \n",
    "    if x.dtype==np.dtype('float64'):\n",
    "        return slope*x+intercept \n",
    "\n",
    "def draw_traj(X,Dcurve,Scurve,x,t):\n",
    "    clf()\n",
    "    scatter(X,Dcurve,s=0.25)\n",
    "    scatter(X,Scurve,s=0.25)        \n",
    "    scatter(x,t,s=5)\n",
    "    xlim(0,1)\n",
    "    ylim(0,3)\n",
    "    show()\n",
    "    display(gcf())\n",
    "    clear_output(wait=True)\n",
    "\n",
    "\n",
    "def cobweb(x0=0.8,y0=2.4,X = np.linspace(0,1,1000),num_iter=5):\n",
    "    x,y=x0,y0\n",
    "    Dcurve = D(X)\n",
    "    Scurve = S(X)\n",
    "    for iteration in range(num_iter):\n",
    "        x_c = X[np.argmin(np.abs(x-X))]# corrected x\n",
    "        x,y=x_c,S(x_c)\n",
    "        if y==S(x) and S(x)>D(x):\n",
    "            downward = np.linspace(S(x),D(x),10)\n",
    "            for py in downward:\n",
    "                draw_traj(X,Dcurve,Scurve,x,py)\n",
    "        x,y = x,D(x) \n",
    "        \n",
    "        if y==D(x) and S(x)>D(x):\n",
    "            x_end = X[np.argmin(np.abs(Scurve-D(x)))]\n",
    "            leftward = np.linspace(x,x_end,10)\n",
    "            for px in leftward:\n",
    "                draw_traj(X,Dcurve,Scurve,px,y)\n",
    "        x,y = x_end, S(x_end)\n",
    "        \n",
    "        if y==S(x) and S(x)<D(x):\n",
    "            upward = np.linspace(S(x),D(x),10)\n",
    "            for py in upward:\n",
    "                draw_traj(X,Dcurve,Scurve,x,py)\n",
    "        x,y = x,D(x)\n",
    "        \n",
    "        if y==D(x) and S(x)<D(x):\n",
    "            x_end = X[np.argmin(np.abs(Scurve-D(x)))]\n",
    "            rightward = np.linspace(x,x_end,10)\n",
    "            for px in rightward:\n",
    "                draw_traj(X,Dcurve,Scurve,px,y)\n",
    "        x,y = x_end,S(x)\n",
    "\n",
    "cbw=cobweb()      \n",
    "\n",
    "    \n",
    "        \n",
    "\n",
    "\n"
   ]
  },
  {
   "cell_type": "code",
   "execution_count": null,
   "metadata": {
    "collapsed": true
   },
   "outputs": [],
   "source": []
  },
  {
   "cell_type": "code",
   "execution_count": null,
   "metadata": {
    "collapsed": true
   },
   "outputs": [],
   "source": []
  }
 ],
 "metadata": {
  "kernelspec": {
   "display_name": "Python [default]",
   "language": "python",
   "name": "python3"
  },
  "language_info": {
   "codemirror_mode": {
    "name": "ipython",
    "version": 3
   },
   "file_extension": ".py",
   "mimetype": "text/x-python",
   "name": "python",
   "nbconvert_exporter": "python",
   "pygments_lexer": "ipython3",
   "version": "3.5.4"
  }
 },
 "nbformat": 4,
 "nbformat_minor": 2
}
